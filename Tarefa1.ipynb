{
 "cells": [
  {
   "cell_type": "code",
   "execution_count": 3,
   "id": "bd26a398",
   "metadata": {},
   "outputs": [],
   "source": [
    "import numpy as np"
   ]
  },
  {
   "cell_type": "code",
   "execution_count": 20,
   "id": "587b2f43",
   "metadata": {},
   "outputs": [],
   "source": [
    "def function(x):\n",
    "    return np.sqrt((np.e)**x + 4*(x**2))"
   ]
  },
  {
   "cell_type": "code",
   "execution_count": 21,
   "id": "ec964811",
   "metadata": {},
   "outputs": [
    {
     "data": {
      "text/plain": [
       "4.836223330133819"
      ]
     },
     "execution_count": 21,
     "metadata": {},
     "output_type": "execute_result"
    }
   ],
   "source": [
    "function(2)"
   ]
  },
  {
   "cell_type": "code",
   "execution_count": 24,
   "id": "ed19ae0f",
   "metadata": {},
   "outputs": [],
   "source": [
    "def function_Derivative(x, deltax):  \n",
    "    return ( (-1/12)*function(x-2*deltax) + (4/3)*function(x-deltax) - (5/2)*function(x) \n",
    "            + (4/3)*function(x+deltax) - (1/12)*function(x+2*deltax) ) * (1/(deltax**2)) "
   ]
  },
  {
   "cell_type": "code",
   "execution_count": 25,
   "id": "0afb0849",
   "metadata": {},
   "outputs": [],
   "source": [
    "def error(x, deltax):\n",
    "    return (function_Derivative(x, deltax) - function_Derivative(x, (deltax/0.5))) / function_Derivative(x, deltax)"
   ]
  },
  {
   "cell_type": "code",
   "execution_count": 26,
   "id": "420bb9cf",
   "metadata": {},
   "outputs": [
    {
     "data": {
      "text/plain": [
       "0.3813662577416643"
      ]
     },
     "execution_count": 26,
     "metadata": {},
     "output_type": "execute_result"
    }
   ],
   "source": [
    "function_Derivative(2, 0.5)"
   ]
  },
  {
   "cell_type": "code",
   "execution_count": 29,
   "id": "708f90d8",
   "metadata": {},
   "outputs": [
    {
     "data": {
      "text/plain": [
       "(0.38193262128362626, 0.0014828886311372387)"
      ]
     },
     "execution_count": 29,
     "metadata": {},
     "output_type": "execute_result"
    }
   ],
   "source": [
    "function_Derivative(2, 0.25), error(2, 0.25)"
   ]
  },
  {
   "cell_type": "code",
   "execution_count": 30,
   "id": "13c45fd1",
   "metadata": {},
   "outputs": [
    {
     "data": {
      "text/plain": [
       "(0.38196227316061737, 7.763038151844249e-05)"
      ]
     },
     "execution_count": 30,
     "metadata": {},
     "output_type": "execute_result"
    }
   ],
   "source": [
    "function_Derivative(2, 0.125), error(2,0.125)"
   ]
  },
  {
   "cell_type": "code",
   "execution_count": 38,
   "id": "20bf764c",
   "metadata": {},
   "outputs": [
    {
     "data": {
      "text/plain": [
       "(0.38196405151981594, 4.655828713439423e-06)"
      ]
     },
     "execution_count": 38,
     "metadata": {},
     "output_type": "execute_result"
    }
   ],
   "source": [
    "function_Derivative(2, 0.125*0.5), error(2,0.125*0.5)"
   ]
  },
  {
   "cell_type": "code",
   "execution_count": 36,
   "id": "35de22b6",
   "metadata": {},
   "outputs": [
    {
     "data": {
      "text/plain": [
       "0.38196416886346485"
      ]
     },
     "execution_count": 36,
     "metadata": {},
     "output_type": "execute_result"
    }
   ],
   "source": [
    "(4*8*np.e**2 - 2*16*np.e**2 + np.e**4 + 16*np.e**2)/(4*(np.e**2+16)*np.sqrt(np.e**2 + 16))"
   ]
  }
 ],
 "metadata": {
  "kernelspec": {
   "display_name": "Python 3",
   "language": "python",
   "name": "python3"
  },
  "language_info": {
   "codemirror_mode": {
    "name": "ipython",
    "version": 3
   },
   "file_extension": ".py",
   "mimetype": "text/x-python",
   "name": "python",
   "nbconvert_exporter": "python",
   "pygments_lexer": "ipython3",
   "version": "3.8.3"
  }
 },
 "nbformat": 4,
 "nbformat_minor": 5
}
